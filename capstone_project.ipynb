{
  "nbformat": 4,
  "nbformat_minor": 0,
  "metadata": {
    "colab": {
      "provenance": [],
      "authorship_tag": "ABX9TyO8+ivvRNSiDeKpBRRLDXfq",
      "include_colab_link": true
    },
    "kernelspec": {
      "name": "python3",
      "display_name": "Python 3"
    },
    "language_info": {
      "name": "python"
    }
  },
  "cells": [
    {
      "cell_type": "markdown",
      "metadata": {
        "id": "view-in-github",
        "colab_type": "text"
      },
      "source": [
        "<a href=\"https://colab.research.google.com/github/dionfirmanda-prog/Knowledge-of-Social-Enterprise-Engineering-Models-in-Switzerland/blob/main/capstone_project.ipynb\" target=\"_parent\"><img src=\"https://colab.research.google.com/assets/colab-badge.svg\" alt=\"Open In Colab\"/></a>"
      ]
    },
    {
      "cell_type": "code",
      "execution_count": null,
      "metadata": {
        "colab": {
          "base_uri": "https://localhost:8080/"
        },
        "id": "j9jL9gHtm_Z2",
        "outputId": "8e9f7e68-192f-4e4a-ccb4-d0649efbfef5"
      },
      "outputs": [
        {
          "output_type": "stream",
          "name": "stdout",
          "text": [
            "\n",
            "Menu:\n",
            "1. Tambah Mahasiswa\n",
            "2. Tampilkan Mahasiswa\n",
            "3. Ubah Mahasiswa\n",
            "4. Hapus Mahasiswa\n",
            "5. Keluar\n",
            "Masukkan pilihan Anda: 1\n",
            "Masukkan nama mahasiswa: Dion Firmanda\n",
            "Masukkan NIM mahasiswa: 7611040028\n",
            "Mahasiswa berhasil ditambahkan.\n",
            "\n",
            "Menu:\n",
            "1. Tambah Mahasiswa\n",
            "2. Tampilkan Mahasiswa\n",
            "3. Ubah Mahasiswa\n",
            "4. Hapus Mahasiswa\n",
            "5. Keluar\n",
            "Masukkan pilihan Anda: 2\n",
            "Daftar Mahasiswa:\n",
            "Nama: Dion Firmanda, NIM: 7611040028\n",
            "\n",
            "Menu:\n",
            "1. Tambah Mahasiswa\n",
            "2. Tampilkan Mahasiswa\n",
            "3. Ubah Mahasiswa\n",
            "4. Hapus Mahasiswa\n",
            "5. Keluar\n"
          ]
        }
      ],
      "source": [
        "\n",
        "data_mahasiswa = []\n",
        "\n",
        "def tambah_mahasiswa():\n",
        "    nama = input(\"Masukkan nama mahasiswa: \")\n",
        "    nim = input(\"Masukkan NIM mahasiswa: \")\n",
        "    mahasiswa = {\"nama\": nama, \"nim\": nim}\n",
        "    data_mahasiswa.append(mahasiswa)\n",
        "    print(\"Mahasiswa berhasil ditambahkan.\")\n",
        "\n",
        "def tampilkan_mahasiswa():\n",
        "    if not data_mahasiswa:\n",
        "        print(\"Belum ada data mahasiswa.\")\n",
        "    else:\n",
        "        print(\"Daftar Mahasiswa:\")\n",
        "        for mahasiswa in data_mahasiswa:\n",
        "            print(f\"Nama: {mahasiswa['nama']}, NIM: {mahasiswa['nim']}\")\n",
        "\n",
        "def ubah_mahasiswa():\n",
        "    tampilkan_mahasiswa()\n",
        "    if data_mahasiswa:\n",
        "        index = int(input(\"Masukkan nomor urut mahasiswa yang ingin diubah: \")) - 1\n",
        "        if 0 <= index < len(data_mahasiswa):\n",
        "            nama = input(\"Masukkan nama baru: \")\n",
        "            nim = input(\"Masukkan NIM baru: \")\n",
        "            data_mahasiswa[index] = {\"nama\": nama, \"nim\": nim}\n",
        "            print(\"Data mahasiswa berhasil diubah.\")\n",
        "        else:\n",
        "            print(\"Nomor urut tidak valid.\")\n",
        "\n",
        "def hapus_mahasiswa():\n",
        "    tampilkan_mahasiswa()\n",
        "    if data_mahasiswa:\n",
        "        index = int(input(\"Masukkan nomor urut mahasiswa yang ingin dihapus: \")) - 1\n",
        "        if 0 <= index < len(data_mahasiswa):\n",
        "            del data_mahasiswa[index]\n",
        "            print(\"Data mahasiswa berhasil dihapus.\")\n",
        "        else:\n",
        "            print(\"Nomor urut tidak valid.\")\n",
        "\n",
        "def menu():\n",
        "    while True:\n",
        "        print(\"\\nMenu:\")\n",
        "        print(\"1. Tambah Mahasiswa\")\n",
        "        print(\"2. Tampilkan Mahasiswa\")\n",
        "        print(\"3. Ubah Mahasiswa\")\n",
        "        print(\"4. Hapus Mahasiswa\")\n",
        "        print(\"5. Keluar\")\n",
        "\n",
        "        pilihan = input(\"Masukkan pilihan Anda: \")\n",
        "\n",
        "        if pilihan == '1':\n",
        "            tambah_mahasiswa()\n",
        "        elif pilihan == '2':\n",
        "            tampilkan_mahasiswa()\n",
        "        elif pilihan == '3':\n",
        "            ubah_mahasiswa()\n",
        "        elif pilihan == '4':\n",
        "            hapus_mahasiswa()\n",
        "        elif pilihan == '5':\n",
        "            print(\"Keluar dari program.\")\n",
        "            break\n",
        "        else:\n",
        "            print(\"Pilihan tidak valid. Silakan coba lagi.\")\n",
        "\n",
        "if __name__ == \"__main__\":\n",
        "    menu()"
      ]
    }
  ]
}